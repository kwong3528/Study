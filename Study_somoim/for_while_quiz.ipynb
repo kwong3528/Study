{
 "cells": [
  {
   "cell_type": "code",
   "execution_count": 3,
   "metadata": {},
   "outputs": [
    {
     "name": "stdout",
     "output_type": "stream",
     "text": [
      "0 2\n",
      "1 3\n",
      "2 5\n",
      "3 7\n",
      "4 11\n",
      "5 13\n",
      "6 17\n",
      "7 19\n",
      "8 23\n",
      "9 29\n",
      "10 31\n"
     ]
    }
   ],
   "source": [
    "# 1번 문제\n",
    "\n",
    "numbers = [2, 3, 5, 7, 11, 13, 17, 19, 23, 29, 31]\n",
    "\n",
    "# 인덱스와 원소 출력# 코드를 입력하세요.\n",
    "\n",
    "for index, element in enumerate(numbers):\n",
    "    print(index, element)"
   ]
  },
  {
   "cell_type": "code",
   "execution_count": 4,
   "metadata": {},
   "outputs": [
    {
     "name": "stdout",
     "output_type": "stream",
     "text": [
      "2\n",
      "4\n",
      "8\n",
      "16\n",
      "32\n",
      "64\n",
      "128\n",
      "256\n",
      "512\n",
      "1024\n"
     ]
    }
   ],
   "source": [
    "# 2번 문제\n",
    "\n",
    "for num in range(1,11):\n",
    "    print(2 ** num)"
   ]
  },
  {
   "cell_type": "code",
   "execution_count": 5,
   "metadata": {},
   "outputs": [
    {
     "name": "stdout",
     "output_type": "stream",
     "text": [
      "1 * 1 : 1\n",
      "1 * 2 : 2\n",
      "1 * 3 : 3\n",
      "1 * 4 : 4\n",
      "1 * 5 : 5\n",
      "1 * 6 : 6\n",
      "1 * 7 : 7\n",
      "1 * 8 : 8\n",
      "1 * 9 : 9\n",
      "2 * 1 : 2\n",
      "2 * 2 : 4\n",
      "2 * 3 : 6\n",
      "2 * 4 : 8\n",
      "2 * 5 : 10\n",
      "2 * 6 : 12\n",
      "2 * 7 : 14\n",
      "2 * 8 : 16\n",
      "2 * 9 : 18\n",
      "3 * 1 : 3\n",
      "3 * 2 : 6\n",
      "3 * 3 : 9\n",
      "3 * 4 : 12\n",
      "3 * 5 : 15\n",
      "3 * 6 : 18\n",
      "3 * 7 : 21\n",
      "3 * 8 : 24\n",
      "3 * 9 : 27\n",
      "4 * 1 : 4\n",
      "4 * 2 : 8\n",
      "4 * 3 : 12\n",
      "4 * 4 : 16\n",
      "4 * 5 : 20\n",
      "4 * 6 : 24\n",
      "4 * 7 : 28\n",
      "4 * 8 : 32\n",
      "4 * 9 : 36\n",
      "5 * 1 : 5\n",
      "5 * 2 : 10\n",
      "5 * 3 : 15\n",
      "5 * 4 : 20\n",
      "5 * 5 : 25\n",
      "5 * 6 : 30\n",
      "5 * 7 : 35\n",
      "5 * 8 : 40\n",
      "5 * 9 : 45\n",
      "6 * 1 : 6\n",
      "6 * 2 : 12\n",
      "6 * 3 : 18\n",
      "6 * 4 : 24\n",
      "6 * 5 : 30\n",
      "6 * 6 : 36\n",
      "6 * 7 : 42\n",
      "6 * 8 : 48\n",
      "6 * 9 : 54\n",
      "7 * 1 : 7\n",
      "7 * 2 : 14\n",
      "7 * 3 : 21\n",
      "7 * 4 : 28\n",
      "7 * 5 : 35\n",
      "7 * 6 : 42\n",
      "7 * 7 : 49\n",
      "7 * 8 : 56\n",
      "7 * 9 : 63\n",
      "8 * 1 : 8\n",
      "8 * 2 : 16\n",
      "8 * 3 : 24\n",
      "8 * 4 : 32\n",
      "8 * 5 : 40\n",
      "8 * 6 : 48\n",
      "8 * 7 : 56\n",
      "8 * 8 : 64\n",
      "8 * 9 : 72\n",
      "9 * 1 : 9\n",
      "9 * 2 : 18\n",
      "9 * 3 : 27\n",
      "9 * 4 : 36\n",
      "9 * 5 : 45\n",
      "9 * 6 : 54\n",
      "9 * 7 : 63\n",
      "9 * 8 : 72\n",
      "9 * 9 : 81\n"
     ]
    }
   ],
   "source": [
    "#3번 문제 - for문\n",
    "\n",
    "for fnum in range(1,10):\n",
    "    for lnum in range(1,10):\n",
    "        print(f\"{fnum} * {lnum} :\",fnum * lnum)"
   ]
  },
  {
   "cell_type": "code",
   "execution_count": 6,
   "metadata": {},
   "outputs": [
    {
     "name": "stdout",
     "output_type": "stream",
     "text": [
      "1 * 1 : 1\n",
      "1 * 2 : 2\n",
      "1 * 3 : 3\n",
      "1 * 4 : 4\n",
      "1 * 5 : 5\n",
      "1 * 6 : 6\n",
      "1 * 7 : 7\n",
      "1 * 8 : 8\n",
      "1 * 9 : 9\n",
      "2 * 1 : 2\n",
      "2 * 2 : 4\n",
      "2 * 3 : 6\n",
      "2 * 4 : 8\n",
      "2 * 5 : 10\n",
      "2 * 6 : 12\n",
      "2 * 7 : 14\n",
      "2 * 8 : 16\n",
      "2 * 9 : 18\n",
      "3 * 1 : 3\n",
      "3 * 2 : 6\n",
      "3 * 3 : 9\n",
      "3 * 4 : 12\n",
      "3 * 5 : 15\n",
      "3 * 6 : 18\n",
      "3 * 7 : 21\n",
      "3 * 8 : 24\n",
      "3 * 9 : 27\n",
      "4 * 1 : 4\n",
      "4 * 2 : 8\n",
      "4 * 3 : 12\n",
      "4 * 4 : 16\n",
      "4 * 5 : 20\n",
      "4 * 6 : 24\n",
      "4 * 7 : 28\n",
      "4 * 8 : 32\n",
      "4 * 9 : 36\n",
      "5 * 1 : 5\n",
      "5 * 2 : 10\n",
      "5 * 3 : 15\n",
      "5 * 4 : 20\n",
      "5 * 5 : 25\n",
      "5 * 6 : 30\n",
      "5 * 7 : 35\n",
      "5 * 8 : 40\n",
      "5 * 9 : 45\n",
      "6 * 1 : 6\n",
      "6 * 2 : 12\n",
      "6 * 3 : 18\n",
      "6 * 4 : 24\n",
      "6 * 5 : 30\n",
      "6 * 6 : 36\n",
      "6 * 7 : 42\n",
      "6 * 8 : 48\n",
      "6 * 9 : 54\n",
      "7 * 1 : 7\n",
      "7 * 2 : 14\n",
      "7 * 3 : 21\n",
      "7 * 4 : 28\n",
      "7 * 5 : 35\n",
      "7 * 6 : 42\n",
      "7 * 7 : 49\n",
      "7 * 8 : 56\n",
      "7 * 9 : 63\n",
      "8 * 1 : 8\n",
      "8 * 2 : 16\n",
      "8 * 3 : 24\n",
      "8 * 4 : 32\n",
      "8 * 5 : 40\n",
      "8 * 6 : 48\n",
      "8 * 7 : 56\n",
      "8 * 8 : 64\n",
      "8 * 9 : 72\n",
      "9 * 1 : 9\n",
      "9 * 2 : 18\n",
      "9 * 3 : 27\n",
      "9 * 4 : 36\n",
      "9 * 5 : 45\n",
      "9 * 6 : 54\n",
      "9 * 7 : 63\n",
      "9 * 8 : 72\n",
      "9 * 9 : 81\n"
     ]
    }
   ],
   "source": [
    "# 4번 문제 - while문\n",
    "fnum = 1\n",
    "lnum = 1\n",
    "while fnum < 10:\n",
    "    lnum = 1\n",
    "    while lnum < 10:\n",
    "        print(f'{fnum} * {lnum} :',fnum * lnum)\n",
    "        lnum += 1\n",
    "    fnum += 1\n",
    "    "
   ]
  },
  {
   "cell_type": "code",
   "execution_count": 8,
   "metadata": {},
   "outputs": [
    {
     "name": "stdout",
     "output_type": "stream",
     "text": [
      "115\n"
     ]
    }
   ],
   "source": [
    "# 5번 퀴즈\n",
    "\n",
    "num = 0\n",
    "while num < 100:\n",
    "    num += 23\n",
    "print(num)"
   ]
  },
  {
   "cell_type": "code",
   "execution_count": 11,
   "metadata": {},
   "outputs": [
    {
     "name": "stdout",
     "output_type": "stream",
     "text": [
      "B\n",
      "F\n",
      "D\n",
      "A\n"
     ]
    }
   ],
   "source": [
    "# 추가 퀴즈\n",
    "\n",
    "def print_grade(midterm_score, final_score):\n",
    "    total = midterm_score + final_score\n",
    "    \n",
    "    if total >= 90:\n",
    "        print('A')\n",
    "    elif total >= 80:\n",
    "        print('B')\n",
    "    elif total >= 70:\n",
    "        print('C')\n",
    "    elif total >= 60:\n",
    "        print('D')\n",
    "    else:\n",
    "        print('F')\n",
    "        \n",
    "print_grade(40, 45)\n",
    "print_grade(20, 35)\n",
    "print_grade(30, 32)\n",
    "print_grade(50, 45)"
   ]
  },
  {
   "cell_type": "code",
   "execution_count": 27,
   "metadata": {},
   "outputs": [
    {
     "name": "stdout",
     "output_type": "stream",
     "text": [
      "1\n",
      "2\n",
      "3\n",
      "4\n",
      "5\n",
      "6\n",
      "8\n",
      "10\n",
      "12\n",
      "15\n",
      "20\n",
      "24\n",
      "30\n",
      "40\n",
      "60\n",
      "120\n"
     ]
    }
   ],
   "source": [
    "i = 120\n",
    "num = 1\n",
    "while num <= 120:\n",
    "    if i % num == 0:\n",
    "        print(num)\n",
    "    num += 1"
   ]
  },
  {
   "cell_type": "code",
   "execution_count": 24,
   "metadata": {},
   "outputs": [],
   "source": [
    "# 추가 퀴즈\n",
    "\n",
    "A = int(input())\n",
    "\n",
    "if A == 1:\n",
    "    print('일')\n",
    "elif A == 2:\n",
    "    print('이')\n",
    "elif A == 3:\n",
    "    print('삼')"
   ]
  }
 ],
 "metadata": {
  "interpreter": {
   "hash": "b36449721cfc74618953b33f633388662ae3ee7b4b32fa1efb4cd6f1b4d02350"
  },
  "kernelspec": {
   "display_name": "Python 3.8.5 ('base')",
   "language": "python",
   "name": "python3"
  },
  "language_info": {
   "codemirror_mode": {
    "name": "ipython",
    "version": 3
   },
   "file_extension": ".py",
   "mimetype": "text/x-python",
   "name": "python",
   "nbconvert_exporter": "python",
   "pygments_lexer": "ipython3",
   "version": "3.8.6"
  },
  "orig_nbformat": 4
 },
 "nbformat": 4,
 "nbformat_minor": 2
}
