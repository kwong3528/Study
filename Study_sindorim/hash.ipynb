{
 "cells": [
  {
   "cell_type": "code",
   "execution_count": 34,
   "metadata": {},
   "outputs": [],
   "source": [
    "from timeit import default_timer as timer\n",
    "from datetime import timedelta"
   ]
  },
  {
   "cell_type": "code",
   "execution_count": 10,
   "metadata": {},
   "outputs": [],
   "source": [
    "participant = [\"leo\", \"kiki\", \"eden\"]\n",
    "completion = [\"eden\", \"kiki\"]"
   ]
  },
  {
   "cell_type": "code",
   "execution_count": 13,
   "metadata": {},
   "outputs": [],
   "source": [
    "def solution(participant, completion):\n",
    "    hashDict = {}\n",
    "    sumHash = 0\n",
    "    \n",
    "    for part in participant:\n",
    "        hashDict[hash(part)] = part\n",
    "        sumHash += hash(part)\n",
    "        \n",
    "    for comp in completion:\n",
    "        sumHash -= hash(comp)\n",
    "        \n",
    "    return hashDict[sumHash]"
   ]
  },
  {
   "cell_type": "code",
   "execution_count": 44,
   "metadata": {},
   "outputs": [
    {
     "name": "stdout",
     "output_type": "stream",
     "text": [
      "leo\n",
      "Time elapsed:  0:00:00.000086\n"
     ]
    }
   ],
   "source": [
    "if __name__ == '__main__':\n",
    "    start = timer()\n",
    "    print(solution(participant, completion))\n",
    "    end = timer()\n",
    "    print(\"Time elapsed: \", timedelta(seconds=end-start))"
   ]
  },
  {
   "cell_type": "code",
   "execution_count": 23,
   "metadata": {},
   "outputs": [],
   "source": [
    "def solution(participant, completion):\n",
    "    hashDict = {}\n",
    "    sumHash = 0\n",
    "    \n",
    "    for part in participant:\n",
    "        hashDict[id(part)] = part\n",
    "        sumHash += id(part)\n",
    "        \n",
    "    for comp in completion:\n",
    "        sumHash -= id(comp)\n",
    "        \n",
    "    return hashDict[sumHash]"
   ]
  },
  {
   "cell_type": "code",
   "execution_count": 43,
   "metadata": {},
   "outputs": [
    {
     "name": "stdout",
     "output_type": "stream",
     "text": [
      "leo\n",
      "Time elapsed:  0:00:00.000065\n"
     ]
    }
   ],
   "source": [
    "if __name__ == '__main__':\n",
    "    start = timer()\n",
    "    print(solution(participant, completion))\n",
    "    end = timer()\n",
    "    print(\"Time elapsed: \", timedelta(seconds=end-start))"
   ]
  },
  {
   "cell_type": "code",
   "execution_count": null,
   "metadata": {},
   "outputs": [],
   "source": []
  }
 ],
 "metadata": {
  "kernelspec": {
   "display_name": "Python 3",
   "language": "python",
   "name": "python3"
  },
  "language_info": {
   "codemirror_mode": {
    "name": "ipython",
    "version": 3
   },
   "file_extension": ".py",
   "mimetype": "text/x-python",
   "name": "python",
   "nbconvert_exporter": "python",
   "pygments_lexer": "ipython3",
   "version": "3.8.5"
  }
 },
 "nbformat": 4,
 "nbformat_minor": 4
}
